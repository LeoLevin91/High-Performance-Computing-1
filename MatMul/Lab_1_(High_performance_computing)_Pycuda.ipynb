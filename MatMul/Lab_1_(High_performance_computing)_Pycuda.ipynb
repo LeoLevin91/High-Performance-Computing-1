{
  "nbformat": 4,
  "nbformat_minor": 0,
  "metadata": {
    "colab": {
      "name": "Lab_1 (High-performance computing) Pycuda.ipynb",
      "provenance": [],
      "collapsed_sections": []
    },
    "kernelspec": {
      "name": "python3",
      "display_name": "Python 3"
    },
    "language_info": {
      "name": "python"
    },
    "accelerator": "GPU"
  },
  "cells": [
    {
      "cell_type": "code",
      "metadata": {
        "colab": {
          "base_uri": "https://localhost:8080/"
        },
        "id": "H6FrEqyZb5_v",
        "outputId": "7950797a-9943-45f4-e28b-e809a8633658"
      },
      "source": [
        "!wget https://developer.nvidia.com/compute/cuda/9.2/Prod/local_installers/cuda-repo-ubuntu1604-9-2-local_9.2.88-1_amd64 -O cuda-repo-ubuntu1604-9-2-local_9.2.88-1_amd64.deb\n",
        "!dpkg -i cuda-repo-ubuntu1604-9-2-local_9.2.88-1_amd64.deb\n",
        "!apt-key add /var/cuda-repo-9-2-local/7fa2af80.pub\n",
        "!apt-get update\n",
        "!apt-get install cuda-9.2"
      ],
      "execution_count": null,
      "outputs": [
        {
          "output_type": "stream",
          "name": "stdout",
          "text": [
            "--2021-09-22 17:37:00--  https://developer.nvidia.com/compute/cuda/9.2/Prod/local_installers/cuda-repo-ubuntu1604-9-2-local_9.2.88-1_amd64\n",
            "Resolving developer.nvidia.com (developer.nvidia.com)... 152.195.19.142\n",
            "Connecting to developer.nvidia.com (developer.nvidia.com)|152.195.19.142|:443... connected.\n",
            "HTTP request sent, awaiting response... 301 Moved Permanently\n",
            "Location: https://developer.nvidia.com/compute/cuda/9.2/prod/local_installers/cuda-repo-ubuntu1604-9-2-local_9.2.88-1_amd64 [following]\n",
            "--2021-09-22 17:37:00--  https://developer.nvidia.com/compute/cuda/9.2/prod/local_installers/cuda-repo-ubuntu1604-9-2-local_9.2.88-1_amd64\n",
            "Reusing existing connection to developer.nvidia.com:443.\n",
            "HTTP request sent, awaiting response... 302 Found\n",
            "Location: https://developer.download.nvidia.com/compute/cuda/9.2/secure/Prod/local_installers/cuda-repo-ubuntu1604-9-2-local_9.2.88-1_amd64.deb?vzcVtl2K_f0OZffTukSKy9kj9FiEeufmVgereyosU5EMloOvFdM1S28o52_qtSphJrB36C0Otj1Jp4mKhsFM5ziAbkHKjdFos7k6-erPoFDsysX-SMkLtNgDN8qPYFtzPpOViIFqbH6Rcqh8wQHEe91e4iUlteFGDkNVWIyAH-6kB9ixqTs8C8hXUGS9WR5Vfv2nJ0jwR61SNsA3W2k [following]\n",
            "--2021-09-22 17:37:01--  https://developer.download.nvidia.com/compute/cuda/9.2/secure/Prod/local_installers/cuda-repo-ubuntu1604-9-2-local_9.2.88-1_amd64.deb?vzcVtl2K_f0OZffTukSKy9kj9FiEeufmVgereyosU5EMloOvFdM1S28o52_qtSphJrB36C0Otj1Jp4mKhsFM5ziAbkHKjdFos7k6-erPoFDsysX-SMkLtNgDN8qPYFtzPpOViIFqbH6Rcqh8wQHEe91e4iUlteFGDkNVWIyAH-6kB9ixqTs8C8hXUGS9WR5Vfv2nJ0jwR61SNsA3W2k\n",
            "Resolving developer.download.nvidia.com (developer.download.nvidia.com)... 152.195.19.142\n",
            "Connecting to developer.download.nvidia.com (developer.download.nvidia.com)|152.195.19.142|:443... connected.\n",
            "HTTP request sent, awaiting response... 200 OK\n",
            "Length: 1267391958 (1.2G) [application/x-deb]\n",
            "Saving to: ‘cuda-repo-ubuntu1604-9-2-local_9.2.88-1_amd64.deb’\n",
            "\n",
            "cuda-repo-ubuntu160 100%[===================>]   1.18G   151MB/s    in 8.0s    \n",
            "\n",
            "2021-09-22 17:37:09 (151 MB/s) - ‘cuda-repo-ubuntu1604-9-2-local_9.2.88-1_amd64.deb’ saved [1267391958/1267391958]\n",
            "\n",
            "Selecting previously unselected package cuda-repo-ubuntu1604-9-2-local.\n",
            "(Reading database ... 155013 files and directories currently installed.)\n",
            "Preparing to unpack cuda-repo-ubuntu1604-9-2-local_9.2.88-1_amd64.deb ...\n",
            "Unpacking cuda-repo-ubuntu1604-9-2-local (9.2.88-1) ...\n",
            "Setting up cuda-repo-ubuntu1604-9-2-local (9.2.88-1) ...\n",
            "OK\n",
            "Get:1 file:/var/cuda-repo-9-2-local  InRelease\n",
            "Ign:1 file:/var/cuda-repo-9-2-local  InRelease\n",
            "Get:2 file:/var/cuda-repo-9-2-local  Release [574 B]\n",
            "Get:2 file:/var/cuda-repo-9-2-local  Release [574 B]\n",
            "Get:3 file:/var/cuda-repo-9-2-local  Release.gpg [819 B]\n",
            "Get:3 file:/var/cuda-repo-9-2-local  Release.gpg [819 B]\n",
            "Get:4 http://security.ubuntu.com/ubuntu bionic-security InRelease [88.7 kB]\n",
            "Get:5 https://cloud.r-project.org/bin/linux/ubuntu bionic-cran40/ InRelease [3,626 B]\n",
            "Ign:6 https://developer.download.nvidia.com/compute/cuda/repos/ubuntu1804/x86_64  InRelease\n",
            "Ign:7 https://developer.download.nvidia.com/compute/machine-learning/repos/ubuntu1804/x86_64  InRelease\n",
            "Hit:8 https://developer.download.nvidia.com/compute/cuda/repos/ubuntu1804/x86_64  Release\n",
            "Get:9 http://ppa.launchpad.net/c2d4u.team/c2d4u4.0+/ubuntu bionic InRelease [15.9 kB]\n",
            "Hit:10 https://developer.download.nvidia.com/compute/machine-learning/repos/ubuntu1804/x86_64  Release\n",
            "Hit:11 http://archive.ubuntu.com/ubuntu bionic InRelease\n",
            "Get:12 file:/var/cuda-repo-9-2-local  Packages [18.7 kB]\n",
            "Hit:13 http://ppa.launchpad.net/cran/libgit2/ubuntu bionic InRelease\n",
            "Get:14 https://cloud.r-project.org/bin/linux/ubuntu bionic-cran40/ Packages [67.4 kB]\n",
            "Hit:15 http://ppa.launchpad.net/deadsnakes/ppa/ubuntu bionic InRelease\n",
            "Get:16 http://archive.ubuntu.com/ubuntu bionic-updates InRelease [88.7 kB]\n",
            "Get:17 http://security.ubuntu.com/ubuntu bionic-security/main amd64 Packages [2,335 kB]\n",
            "Hit:18 http://ppa.launchpad.net/graphics-drivers/ppa/ubuntu bionic InRelease\n",
            "Get:19 http://security.ubuntu.com/ubuntu bionic-security/universe amd64 Packages [1,428 kB]\n",
            "Get:20 http://security.ubuntu.com/ubuntu bionic-security/restricted amd64 Packages [581 kB]\n",
            "Get:22 http://archive.ubuntu.com/ubuntu bionic-backports InRelease [74.6 kB]\n",
            "Get:24 http://ppa.launchpad.net/c2d4u.team/c2d4u4.0+/ubuntu bionic/main Sources [1,802 kB]\n",
            "Get:25 http://archive.ubuntu.com/ubuntu bionic-updates/main amd64 Packages [2,770 kB]\n",
            "Get:26 http://ppa.launchpad.net/c2d4u.team/c2d4u4.0+/ubuntu bionic/main amd64 Packages [922 kB]\n",
            "Get:27 http://archive.ubuntu.com/ubuntu bionic-updates/restricted amd64 Packages [613 kB]\n",
            "Get:28 http://archive.ubuntu.com/ubuntu bionic-updates/universe amd64 Packages [2,202 kB]\n",
            "Fetched 13.0 MB in 42s (311 kB/s)\n",
            "Reading package lists... Done\n",
            "Reading package lists... Done\n",
            "Building dependency tree       \n",
            "Reading state information... Done\n",
            "Note, selecting 'cuda-9-2' for regex 'cuda-9.2'\n",
            "Note, selecting 'libcuda-9.2-1' for regex 'cuda-9.2'\n",
            "The following additional packages will be installed:\n",
            "  cuda-command-line-tools-9-2 cuda-compiler-9-2 cuda-cublas-9-2\n",
            "  cuda-cublas-dev-9-2 cuda-cudart-9-2 cuda-cudart-dev-9-2 cuda-cufft-9-2\n",
            "  cuda-cufft-dev-9-2 cuda-cuobjdump-9-2 cuda-cupti-9-2 cuda-curand-9-2\n",
            "  cuda-curand-dev-9-2 cuda-cusolver-9-2 cuda-cusolver-dev-9-2\n",
            "  cuda-cusparse-9-2 cuda-cusparse-dev-9-2 cuda-demo-suite-9-2\n",
            "  cuda-documentation-9-2 cuda-driver-dev-9-2 cuda-gdb-9-2\n",
            "  cuda-gpu-library-advisor-9-2 cuda-libraries-9-2 cuda-libraries-dev-9-2\n",
            "  cuda-license-9-2 cuda-memcheck-9-2 cuda-misc-headers-9-2 cuda-npp-9-2\n",
            "  cuda-npp-dev-9-2 cuda-nsight-9-2 cuda-nvcc-9-2 cuda-nvdisasm-9-2\n",
            "  cuda-nvgraph-9-2 cuda-nvgraph-dev-9-2 cuda-nvml-dev-9-2 cuda-nvprof-9-2\n",
            "  cuda-nvprune-9-2 cuda-nvrtc-9-2 cuda-nvrtc-dev-9-2 cuda-nvtx-9-2\n",
            "  cuda-nvvp-9-2 cuda-runtime-9-2 cuda-samples-9-2 cuda-toolkit-9-2\n",
            "  cuda-tools-9-2 cuda-visual-tools-9-2\n",
            "The following NEW packages will be installed:\n",
            "  cuda-9-2 cuda-command-line-tools-9-2 cuda-compiler-9-2 cuda-cublas-9-2\n",
            "  cuda-cublas-dev-9-2 cuda-cudart-9-2 cuda-cudart-dev-9-2 cuda-cufft-9-2\n",
            "  cuda-cufft-dev-9-2 cuda-cuobjdump-9-2 cuda-cupti-9-2 cuda-curand-9-2\n",
            "  cuda-curand-dev-9-2 cuda-cusolver-9-2 cuda-cusolver-dev-9-2\n",
            "  cuda-cusparse-9-2 cuda-cusparse-dev-9-2 cuda-demo-suite-9-2\n",
            "  cuda-documentation-9-2 cuda-driver-dev-9-2 cuda-gdb-9-2\n",
            "  cuda-gpu-library-advisor-9-2 cuda-libraries-9-2 cuda-libraries-dev-9-2\n",
            "  cuda-license-9-2 cuda-memcheck-9-2 cuda-misc-headers-9-2 cuda-npp-9-2\n",
            "  cuda-npp-dev-9-2 cuda-nsight-9-2 cuda-nvcc-9-2 cuda-nvdisasm-9-2\n",
            "  cuda-nvgraph-9-2 cuda-nvgraph-dev-9-2 cuda-nvml-dev-9-2 cuda-nvprof-9-2\n",
            "  cuda-nvprune-9-2 cuda-nvrtc-9-2 cuda-nvrtc-dev-9-2 cuda-nvtx-9-2\n",
            "  cuda-nvvp-9-2 cuda-runtime-9-2 cuda-samples-9-2 cuda-toolkit-9-2\n",
            "  cuda-tools-9-2 cuda-visual-tools-9-2\n",
            "0 upgraded, 46 newly installed, 0 to remove and 61 not upgraded.\n",
            "Need to get 0 B/1,146 MB of archives.\n",
            "After this operation, 2,642 MB of additional disk space will be used.\n",
            "Get:1 file:/var/cuda-repo-9-2-local  cuda-license-9-2 9.2.88-1 [22.0 kB]\n",
            "Get:2 file:/var/cuda-repo-9-2-local  cuda-misc-headers-9-2 9.2.88-1 [640 kB]\n",
            "Get:3 file:/var/cuda-repo-9-2-local  cuda-nvcc-9-2 9.2.88-1 [15.4 MB]\n",
            "Get:4 file:/var/cuda-repo-9-2-local  cuda-cuobjdump-9-2 9.2.88-1 [129 kB]\n",
            "Get:5 file:/var/cuda-repo-9-2-local  cuda-nvprune-9-2 9.2.88-1 [36.7 kB]\n",
            "Get:6 file:/var/cuda-repo-9-2-local  cuda-compiler-9-2 9.2.88-1 [2,518 B]\n",
            "Get:7 file:/var/cuda-repo-9-2-local  cuda-nvdisasm-9-2 9.2.88-1 [17.4 MB]\n",
            "Get:8 file:/var/cuda-repo-9-2-local  cuda-gdb-9-2 9.2.88-1 [2,765 kB]\n",
            "Get:9 file:/var/cuda-repo-9-2-local  cuda-nvprof-9-2 9.2.88-1 [4,737 kB]\n",
            "Get:10 file:/var/cuda-repo-9-2-local  cuda-memcheck-9-2 9.2.88-1 [137 kB]\n",
            "Get:11 file:/var/cuda-repo-9-2-local  cuda-cudart-9-2 9.2.88-1 [97.8 kB]\n",
            "Get:12 file:/var/cuda-repo-9-2-local  cuda-driver-dev-9-2 9.2.88-1 [11.1 kB]\n",
            "Get:13 file:/var/cuda-repo-9-2-local  cuda-cudart-dev-9-2 9.2.88-1 [718 kB]\n",
            "Get:14 file:/var/cuda-repo-9-2-local  cuda-cupti-9-2 9.2.88-1 [1,537 kB]\n",
            "Get:15 file:/var/cuda-repo-9-2-local  cuda-gpu-library-advisor-9-2 9.2.88-1 [1,002 kB]\n",
            "Get:16 file:/var/cuda-repo-9-2-local  cuda-nvtx-9-2 9.2.88-1 [24.3 kB]\n",
            "Get:17 file:/var/cuda-repo-9-2-local  cuda-command-line-tools-9-2 9.2.88-1 [26.3 kB]\n",
            "Get:18 file:/var/cuda-repo-9-2-local  cuda-nsight-9-2 9.2.88-1 [2,580 B]\n",
            "Get:19 file:/var/cuda-repo-9-2-local  cuda-nvvp-9-2 9.2.88-1 [2,528 B]\n",
            "Get:20 file:/var/cuda-repo-9-2-local  cuda-nvrtc-9-2 9.2.88-1 [5,908 kB]\n",
            "Get:21 file:/var/cuda-repo-9-2-local  cuda-nvrtc-dev-9-2 9.2.88-1 [9,318 B]\n",
            "Get:22 file:/var/cuda-repo-9-2-local  cuda-cusolver-9-2 9.2.88-1 [31.1 MB]\n",
            "Get:23 file:/var/cuda-repo-9-2-local  cuda-cusolver-dev-9-2 9.2.88-1 [8,184 kB]\n",
            "Get:24 file:/var/cuda-repo-9-2-local  cuda-cublas-9-2 9.2.88-1 [24.9 MB]\n",
            "Get:25 file:/var/cuda-repo-9-2-local  cuda-cublas-dev-9-2 9.2.88-1 [49.1 MB]\n",
            "Get:26 file:/var/cuda-repo-9-2-local  cuda-cufft-9-2 9.2.88-1 [51.5 MB]\n",
            "Get:27 file:/var/cuda-repo-9-2-local  cuda-cufft-dev-9-2 9.2.88-1 [106 MB]\n",
            "Get:28 file:/var/cuda-repo-9-2-local  cuda-curand-9-2 9.2.88-1 [38.8 MB]\n",
            "Get:29 file:/var/cuda-repo-9-2-local  cuda-curand-dev-9-2 9.2.88-1 [57.8 MB]\n",
            "Get:30 file:/var/cuda-repo-9-2-local  cuda-cusparse-9-2 9.2.88-1 [27.6 MB]\n",
            "Get:31 file:/var/cuda-repo-9-2-local  cuda-cusparse-dev-9-2 9.2.88-1 [27.8 MB]\n",
            "Get:32 file:/var/cuda-repo-9-2-local  cuda-npp-9-2 9.2.88-1 [52.1 MB]\n",
            "Get:33 file:/var/cuda-repo-9-2-local  cuda-npp-dev-9-2 9.2.88-1 [52.0 MB]\n",
            "Get:34 file:/var/cuda-repo-9-2-local  cuda-nvml-dev-9-2 9.2.88-1 [49.4 kB]\n",
            "Get:35 file:/var/cuda-repo-9-2-local  cuda-nvgraph-9-2 9.2.88-1 [11.7 MB]\n",
            "Get:36 file:/var/cuda-repo-9-2-local  cuda-nvgraph-dev-9-2 9.2.88-1 [30.0 MB]\n",
            "Get:37 file:/var/cuda-repo-9-2-local  cuda-visual-tools-9-2 9.2.88-1 [396 MB]\n",
            "Get:38 file:/var/cuda-repo-9-2-local  cuda-tools-9-2 9.2.88-1 [2,486 B]\n",
            "Get:39 file:/var/cuda-repo-9-2-local  cuda-samples-9-2 9.2.88-1 [76.3 MB]\n",
            "Get:40 file:/var/cuda-repo-9-2-local  cuda-documentation-9-2 9.2.88-1 [50.4 MB]\n",
            "Get:41 file:/var/cuda-repo-9-2-local  cuda-libraries-dev-9-2 9.2.88-1 [2,598 B]\n",
            "Get:42 file:/var/cuda-repo-9-2-local  cuda-toolkit-9-2 9.2.88-1 [2,828 B]\n",
            "Get:43 file:/var/cuda-repo-9-2-local  cuda-libraries-9-2 9.2.88-1 [2,568 B]\n",
            "Get:44 file:/var/cuda-repo-9-2-local  cuda-runtime-9-2 9.2.88-1 [2,530 B]\n",
            "Get:45 file:/var/cuda-repo-9-2-local  cuda-demo-suite-9-2 9.2.88-1 [3,889 kB]\n",
            "Get:46 file:/var/cuda-repo-9-2-local  cuda-9-2 9.2.88-1 [2,560 B]\n",
            "Extracting templates from packages: 100%\n",
            "Selecting previously unselected package cuda-license-9-2.\n",
            "(Reading database ... 155086 files and directories currently installed.)\n",
            "Preparing to unpack .../00-cuda-license-9-2_9.2.88-1_amd64.deb ...\n",
            "Unpacking cuda-license-9-2 (9.2.88-1) ...\n",
            "Selecting previously unselected package cuda-misc-headers-9-2.\n",
            "Preparing to unpack .../01-cuda-misc-headers-9-2_9.2.88-1_amd64.deb ...\n",
            "Unpacking cuda-misc-headers-9-2 (9.2.88-1) ...\n",
            "Selecting previously unselected package cuda-nvcc-9-2.\n",
            "Preparing to unpack .../02-cuda-nvcc-9-2_9.2.88-1_amd64.deb ...\n",
            "Unpacking cuda-nvcc-9-2 (9.2.88-1) ...\n",
            "Selecting previously unselected package cuda-cuobjdump-9-2.\n",
            "Preparing to unpack .../03-cuda-cuobjdump-9-2_9.2.88-1_amd64.deb ...\n",
            "Unpacking cuda-cuobjdump-9-2 (9.2.88-1) ...\n",
            "Selecting previously unselected package cuda-nvprune-9-2.\n",
            "Preparing to unpack .../04-cuda-nvprune-9-2_9.2.88-1_amd64.deb ...\n",
            "Unpacking cuda-nvprune-9-2 (9.2.88-1) ...\n",
            "Selecting previously unselected package cuda-compiler-9-2.\n",
            "Preparing to unpack .../05-cuda-compiler-9-2_9.2.88-1_amd64.deb ...\n",
            "Unpacking cuda-compiler-9-2 (9.2.88-1) ...\n",
            "Selecting previously unselected package cuda-nvdisasm-9-2.\n",
            "Preparing to unpack .../06-cuda-nvdisasm-9-2_9.2.88-1_amd64.deb ...\n",
            "Unpacking cuda-nvdisasm-9-2 (9.2.88-1) ...\n",
            "Selecting previously unselected package cuda-gdb-9-2.\n",
            "Preparing to unpack .../07-cuda-gdb-9-2_9.2.88-1_amd64.deb ...\n",
            "Unpacking cuda-gdb-9-2 (9.2.88-1) ...\n",
            "Selecting previously unselected package cuda-nvprof-9-2.\n",
            "Preparing to unpack .../08-cuda-nvprof-9-2_9.2.88-1_amd64.deb ...\n",
            "Unpacking cuda-nvprof-9-2 (9.2.88-1) ...\n",
            "Selecting previously unselected package cuda-memcheck-9-2.\n",
            "Preparing to unpack .../09-cuda-memcheck-9-2_9.2.88-1_amd64.deb ...\n",
            "Unpacking cuda-memcheck-9-2 (9.2.88-1) ...\n",
            "Selecting previously unselected package cuda-cudart-9-2.\n",
            "Preparing to unpack .../10-cuda-cudart-9-2_9.2.88-1_amd64.deb ...\n",
            "Unpacking cuda-cudart-9-2 (9.2.88-1) ...\n",
            "Selecting previously unselected package cuda-driver-dev-9-2.\n",
            "Preparing to unpack .../11-cuda-driver-dev-9-2_9.2.88-1_amd64.deb ...\n",
            "Unpacking cuda-driver-dev-9-2 (9.2.88-1) ...\n",
            "Selecting previously unselected package cuda-cudart-dev-9-2.\n",
            "Preparing to unpack .../12-cuda-cudart-dev-9-2_9.2.88-1_amd64.deb ...\n",
            "Unpacking cuda-cudart-dev-9-2 (9.2.88-1) ...\n",
            "Selecting previously unselected package cuda-cupti-9-2.\n",
            "Preparing to unpack .../13-cuda-cupti-9-2_9.2.88-1_amd64.deb ...\n",
            "Unpacking cuda-cupti-9-2 (9.2.88-1) ...\n",
            "Selecting previously unselected package cuda-gpu-library-advisor-9-2.\n",
            "Preparing to unpack .../14-cuda-gpu-library-advisor-9-2_9.2.88-1_amd64.deb ...\n",
            "Unpacking cuda-gpu-library-advisor-9-2 (9.2.88-1) ...\n",
            "Selecting previously unselected package cuda-nvtx-9-2.\n",
            "Preparing to unpack .../15-cuda-nvtx-9-2_9.2.88-1_amd64.deb ...\n",
            "Unpacking cuda-nvtx-9-2 (9.2.88-1) ...\n",
            "Selecting previously unselected package cuda-command-line-tools-9-2.\n",
            "Preparing to unpack .../16-cuda-command-line-tools-9-2_9.2.88-1_amd64.deb ...\n",
            "Unpacking cuda-command-line-tools-9-2 (9.2.88-1) ...\n",
            "Selecting previously unselected package cuda-nsight-9-2.\n",
            "Preparing to unpack .../17-cuda-nsight-9-2_9.2.88-1_amd64.deb ...\n",
            "Unpacking cuda-nsight-9-2 (9.2.88-1) ...\n",
            "Selecting previously unselected package cuda-nvvp-9-2.\n",
            "Preparing to unpack .../18-cuda-nvvp-9-2_9.2.88-1_amd64.deb ...\n",
            "Unpacking cuda-nvvp-9-2 (9.2.88-1) ...\n",
            "Selecting previously unselected package cuda-nvrtc-9-2.\n",
            "Preparing to unpack .../19-cuda-nvrtc-9-2_9.2.88-1_amd64.deb ...\n",
            "Unpacking cuda-nvrtc-9-2 (9.2.88-1) ...\n",
            "Selecting previously unselected package cuda-nvrtc-dev-9-2.\n",
            "Preparing to unpack .../20-cuda-nvrtc-dev-9-2_9.2.88-1_amd64.deb ...\n",
            "Unpacking cuda-nvrtc-dev-9-2 (9.2.88-1) ...\n",
            "Selecting previously unselected package cuda-cusolver-9-2.\n",
            "Preparing to unpack .../21-cuda-cusolver-9-2_9.2.88-1_amd64.deb ...\n",
            "Unpacking cuda-cusolver-9-2 (9.2.88-1) ...\n",
            "Selecting previously unselected package cuda-cusolver-dev-9-2.\n",
            "Preparing to unpack .../22-cuda-cusolver-dev-9-2_9.2.88-1_amd64.deb ...\n",
            "Unpacking cuda-cusolver-dev-9-2 (9.2.88-1) ...\n",
            "Selecting previously unselected package cuda-cublas-9-2.\n",
            "Preparing to unpack .../23-cuda-cublas-9-2_9.2.88-1_amd64.deb ...\n",
            "Unpacking cuda-cublas-9-2 (9.2.88-1) ...\n",
            "Selecting previously unselected package cuda-cublas-dev-9-2.\n",
            "Preparing to unpack .../24-cuda-cublas-dev-9-2_9.2.88-1_amd64.deb ...\n",
            "Unpacking cuda-cublas-dev-9-2 (9.2.88-1) ...\n",
            "Selecting previously unselected package cuda-cufft-9-2.\n",
            "Preparing to unpack .../25-cuda-cufft-9-2_9.2.88-1_amd64.deb ...\n",
            "Unpacking cuda-cufft-9-2 (9.2.88-1) ...\n",
            "Selecting previously unselected package cuda-cufft-dev-9-2.\n",
            "Preparing to unpack .../26-cuda-cufft-dev-9-2_9.2.88-1_amd64.deb ...\n",
            "Unpacking cuda-cufft-dev-9-2 (9.2.88-1) ...\n",
            "Selecting previously unselected package cuda-curand-9-2.\n",
            "Preparing to unpack .../27-cuda-curand-9-2_9.2.88-1_amd64.deb ...\n",
            "Unpacking cuda-curand-9-2 (9.2.88-1) ...\n",
            "Selecting previously unselected package cuda-curand-dev-9-2.\n",
            "Preparing to unpack .../28-cuda-curand-dev-9-2_9.2.88-1_amd64.deb ...\n",
            "Unpacking cuda-curand-dev-9-2 (9.2.88-1) ...\n",
            "Selecting previously unselected package cuda-cusparse-9-2.\n",
            "Preparing to unpack .../29-cuda-cusparse-9-2_9.2.88-1_amd64.deb ...\n",
            "Unpacking cuda-cusparse-9-2 (9.2.88-1) ...\n",
            "Selecting previously unselected package cuda-cusparse-dev-9-2.\n",
            "Preparing to unpack .../30-cuda-cusparse-dev-9-2_9.2.88-1_amd64.deb ...\n",
            "Unpacking cuda-cusparse-dev-9-2 (9.2.88-1) ...\n",
            "Selecting previously unselected package cuda-npp-9-2.\n",
            "Preparing to unpack .../31-cuda-npp-9-2_9.2.88-1_amd64.deb ...\n",
            "Unpacking cuda-npp-9-2 (9.2.88-1) ...\n",
            "Selecting previously unselected package cuda-npp-dev-9-2.\n",
            "Preparing to unpack .../32-cuda-npp-dev-9-2_9.2.88-1_amd64.deb ...\n",
            "Unpacking cuda-npp-dev-9-2 (9.2.88-1) ...\n",
            "Selecting previously unselected package cuda-nvml-dev-9-2.\n",
            "Preparing to unpack .../33-cuda-nvml-dev-9-2_9.2.88-1_amd64.deb ...\n",
            "Unpacking cuda-nvml-dev-9-2 (9.2.88-1) ...\n",
            "Selecting previously unselected package cuda-nvgraph-9-2.\n",
            "Preparing to unpack .../34-cuda-nvgraph-9-2_9.2.88-1_amd64.deb ...\n",
            "Unpacking cuda-nvgraph-9-2 (9.2.88-1) ...\n",
            "Selecting previously unselected package cuda-nvgraph-dev-9-2.\n",
            "Preparing to unpack .../35-cuda-nvgraph-dev-9-2_9.2.88-1_amd64.deb ...\n",
            "Unpacking cuda-nvgraph-dev-9-2 (9.2.88-1) ...\n",
            "Selecting previously unselected package cuda-visual-tools-9-2.\n",
            "Preparing to unpack .../36-cuda-visual-tools-9-2_9.2.88-1_amd64.deb ...\n",
            "Unpacking cuda-visual-tools-9-2 (9.2.88-1) ...\n",
            "Selecting previously unselected package cuda-tools-9-2.\n",
            "Preparing to unpack .../37-cuda-tools-9-2_9.2.88-1_amd64.deb ...\n",
            "Unpacking cuda-tools-9-2 (9.2.88-1) ...\n",
            "Selecting previously unselected package cuda-samples-9-2.\n",
            "Preparing to unpack .../38-cuda-samples-9-2_9.2.88-1_amd64.deb ...\n",
            "Unpacking cuda-samples-9-2 (9.2.88-1) ...\n",
            "Selecting previously unselected package cuda-documentation-9-2.\n",
            "Preparing to unpack .../39-cuda-documentation-9-2_9.2.88-1_amd64.deb ...\n",
            "Unpacking cuda-documentation-9-2 (9.2.88-1) ...\n",
            "Selecting previously unselected package cuda-libraries-dev-9-2.\n",
            "Preparing to unpack .../40-cuda-libraries-dev-9-2_9.2.88-1_amd64.deb ...\n",
            "Unpacking cuda-libraries-dev-9-2 (9.2.88-1) ...\n",
            "Selecting previously unselected package cuda-toolkit-9-2.\n",
            "Preparing to unpack .../41-cuda-toolkit-9-2_9.2.88-1_amd64.deb ...\n",
            "Unpacking cuda-toolkit-9-2 (9.2.88-1) ...\n",
            "Selecting previously unselected package cuda-libraries-9-2.\n",
            "Preparing to unpack .../42-cuda-libraries-9-2_9.2.88-1_amd64.deb ...\n",
            "Unpacking cuda-libraries-9-2 (9.2.88-1) ...\n",
            "Selecting previously unselected package cuda-runtime-9-2.\n",
            "Preparing to unpack .../43-cuda-runtime-9-2_9.2.88-1_amd64.deb ...\n",
            "Unpacking cuda-runtime-9-2 (9.2.88-1) ...\n",
            "Selecting previously unselected package cuda-demo-suite-9-2.\n",
            "Preparing to unpack .../44-cuda-demo-suite-9-2_9.2.88-1_amd64.deb ...\n",
            "Unpacking cuda-demo-suite-9-2 (9.2.88-1) ...\n",
            "Selecting previously unselected package cuda-9-2.\n",
            "Preparing to unpack .../45-cuda-9-2_9.2.88-1_amd64.deb ...\n",
            "Unpacking cuda-9-2 (9.2.88-1) ...\n",
            "Setting up cuda-license-9-2 (9.2.88-1) ...\n",
            "*** LICENSE AGREEMENT ***\n",
            "By using this software you agree to fully comply with the terms and \n",
            "conditions of the EULA (End User License Agreement). The EULA is located\n",
            "at /usr/local/cuda-9.2/doc/EULA.txt. The EULA can also be found at\n",
            "http://docs.nvidia.com/cuda/eula/index.html. If you do not agree to the\n",
            "terms and conditions of the EULA, do not use the software.\n",
            "\n",
            "Setting up cuda-nvprune-9-2 (9.2.88-1) ...\n",
            "Setting up cuda-cudart-9-2 (9.2.88-1) ...\n",
            "Setting up cuda-nvprof-9-2 (9.2.88-1) ...\n",
            "Setting up cuda-nvrtc-9-2 (9.2.88-1) ...\n",
            "Setting up cuda-nvtx-9-2 (9.2.88-1) ...\n",
            "Setting up cuda-cusolver-9-2 (9.2.88-1) ...\n",
            "Setting up cuda-nvml-dev-9-2 (9.2.88-1) ...\n",
            "Setting up cuda-cufft-9-2 (9.2.88-1) ...\n",
            "Setting up cuda-npp-9-2 (9.2.88-1) ...\n",
            "Setting up cuda-misc-headers-9-2 (9.2.88-1) ...\n",
            "Setting up cuda-memcheck-9-2 (9.2.88-1) ...\n",
            "Setting up cuda-npp-dev-9-2 (9.2.88-1) ...\n",
            "Setting up cuda-nvdisasm-9-2 (9.2.88-1) ...\n",
            "Setting up cuda-nvvp-9-2 (9.2.88-1) ...\n",
            "Setting up cuda-nvrtc-dev-9-2 (9.2.88-1) ...\n",
            "Setting up cuda-driver-dev-9-2 (9.2.88-1) ...\n",
            "Setting up cuda-curand-9-2 (9.2.88-1) ...\n",
            "Setting up cuda-cusolver-dev-9-2 (9.2.88-1) ...\n",
            "Setting up cuda-nsight-9-2 (9.2.88-1) ...\n",
            "Setting up cuda-cublas-9-2 (9.2.88-1) ...\n",
            "Setting up cuda-cuobjdump-9-2 (9.2.88-1) ...\n",
            "Setting up cuda-cusparse-9-2 (9.2.88-1) ...\n",
            "Setting up cuda-nvgraph-9-2 (9.2.88-1) ...\n",
            "Setting up cuda-gpu-library-advisor-9-2 (9.2.88-1) ...\n",
            "Setting up cuda-gdb-9-2 (9.2.88-1) ...\n",
            "Setting up cuda-cudart-dev-9-2 (9.2.88-1) ...\n",
            "Setting up cuda-cufft-dev-9-2 (9.2.88-1) ...\n",
            "Setting up cuda-libraries-9-2 (9.2.88-1) ...\n",
            "Setting up cuda-cusparse-dev-9-2 (9.2.88-1) ...\n",
            "Setting up cuda-runtime-9-2 (9.2.88-1) ...\n",
            "Setting up cuda-nvcc-9-2 (9.2.88-1) ...\n",
            "Setting up cuda-cupti-9-2 (9.2.88-1) ...\n",
            "Setting up cuda-cublas-dev-9-2 (9.2.88-1) ...\n",
            "Setting up cuda-nvgraph-dev-9-2 (9.2.88-1) ...\n",
            "Setting up cuda-command-line-tools-9-2 (9.2.88-1) ...\n",
            "Setting up cuda-curand-dev-9-2 (9.2.88-1) ...\n",
            "Setting up cuda-demo-suite-9-2 (9.2.88-1) ...\n",
            "Setting up cuda-visual-tools-9-2 (9.2.88-1) ...\n",
            "Setting up cuda-compiler-9-2 (9.2.88-1) ...\n",
            "Setting up cuda-libraries-dev-9-2 (9.2.88-1) ...\n",
            "Setting up cuda-samples-9-2 (9.2.88-1) ...\n",
            "Setting up cuda-documentation-9-2 (9.2.88-1) ...\n",
            "Setting up cuda-tools-9-2 (9.2.88-1) ...\n",
            "Setting up cuda-toolkit-9-2 (9.2.88-1) ...\n",
            "Setting up cuda-9-2 (9.2.88-1) ...\n",
            "Processing triggers for libc-bin (2.27-3ubuntu1.3) ...\n",
            "/sbin/ldconfig.real: /usr/local/lib/python3.7/dist-packages/ideep4py/lib/libmkldnn.so.0 is not a symbolic link\n",
            "\n"
          ]
        }
      ]
    },
    {
      "cell_type": "code",
      "metadata": {
        "colab": {
          "base_uri": "https://localhost:8080/"
        },
        "id": "lhoUjVcq2siu",
        "outputId": "ae564e2a-7a10-43a6-f946-47dc7d5992dd"
      },
      "source": [
        "!pip install pycuda"
      ],
      "execution_count": 1,
      "outputs": [
        {
          "output_type": "stream",
          "name": "stdout",
          "text": [
            "Collecting pycuda\n",
            "  Downloading pycuda-2021.1.tar.gz (1.7 MB)\n",
            "\u001b[?25l\r\u001b[K     |▏                               | 10 kB 23.0 MB/s eta 0:00:01\r\u001b[K     |▍                               | 20 kB 29.2 MB/s eta 0:00:01\r\u001b[K     |▋                               | 30 kB 26.3 MB/s eta 0:00:01\r\u001b[K     |▉                               | 40 kB 19.5 MB/s eta 0:00:01\r\u001b[K     |█                               | 51 kB 15.6 MB/s eta 0:00:01\r\u001b[K     |█▏                              | 61 kB 12.4 MB/s eta 0:00:01\r\u001b[K     |█▍                              | 71 kB 12.7 MB/s eta 0:00:01\r\u001b[K     |█▋                              | 81 kB 14.0 MB/s eta 0:00:01\r\u001b[K     |█▊                              | 92 kB 12.0 MB/s eta 0:00:01\r\u001b[K     |██                              | 102 kB 12.8 MB/s eta 0:00:01\r\u001b[K     |██▏                             | 112 kB 12.8 MB/s eta 0:00:01\r\u001b[K     |██▍                             | 122 kB 12.8 MB/s eta 0:00:01\r\u001b[K     |██▌                             | 133 kB 12.8 MB/s eta 0:00:01\r\u001b[K     |██▊                             | 143 kB 12.8 MB/s eta 0:00:01\r\u001b[K     |███                             | 153 kB 12.8 MB/s eta 0:00:01\r\u001b[K     |███▏                            | 163 kB 12.8 MB/s eta 0:00:01\r\u001b[K     |███▎                            | 174 kB 12.8 MB/s eta 0:00:01\r\u001b[K     |███▌                            | 184 kB 12.8 MB/s eta 0:00:01\r\u001b[K     |███▊                            | 194 kB 12.8 MB/s eta 0:00:01\r\u001b[K     |████                            | 204 kB 12.8 MB/s eta 0:00:01\r\u001b[K     |████                            | 215 kB 12.8 MB/s eta 0:00:01\r\u001b[K     |████▎                           | 225 kB 12.8 MB/s eta 0:00:01\r\u001b[K     |████▌                           | 235 kB 12.8 MB/s eta 0:00:01\r\u001b[K     |████▊                           | 245 kB 12.8 MB/s eta 0:00:01\r\u001b[K     |████▉                           | 256 kB 12.8 MB/s eta 0:00:01\r\u001b[K     |█████                           | 266 kB 12.8 MB/s eta 0:00:01\r\u001b[K     |█████▎                          | 276 kB 12.8 MB/s eta 0:00:01\r\u001b[K     |█████▌                          | 286 kB 12.8 MB/s eta 0:00:01\r\u001b[K     |█████▋                          | 296 kB 12.8 MB/s eta 0:00:01\r\u001b[K     |█████▉                          | 307 kB 12.8 MB/s eta 0:00:01\r\u001b[K     |██████                          | 317 kB 12.8 MB/s eta 0:00:01\r\u001b[K     |██████▎                         | 327 kB 12.8 MB/s eta 0:00:01\r\u001b[K     |██████▍                         | 337 kB 12.8 MB/s eta 0:00:01\r\u001b[K     |██████▋                         | 348 kB 12.8 MB/s eta 0:00:01\r\u001b[K     |██████▉                         | 358 kB 12.8 MB/s eta 0:00:01\r\u001b[K     |███████                         | 368 kB 12.8 MB/s eta 0:00:01\r\u001b[K     |███████▏                        | 378 kB 12.8 MB/s eta 0:00:01\r\u001b[K     |███████▍                        | 389 kB 12.8 MB/s eta 0:00:01\r\u001b[K     |███████▋                        | 399 kB 12.8 MB/s eta 0:00:01\r\u001b[K     |███████▉                        | 409 kB 12.8 MB/s eta 0:00:01\r\u001b[K     |████████                        | 419 kB 12.8 MB/s eta 0:00:01\r\u001b[K     |████████▏                       | 430 kB 12.8 MB/s eta 0:00:01\r\u001b[K     |████████▍                       | 440 kB 12.8 MB/s eta 0:00:01\r\u001b[K     |████████▋                       | 450 kB 12.8 MB/s eta 0:00:01\r\u001b[K     |████████▊                       | 460 kB 12.8 MB/s eta 0:00:01\r\u001b[K     |█████████                       | 471 kB 12.8 MB/s eta 0:00:01\r\u001b[K     |█████████▏                      | 481 kB 12.8 MB/s eta 0:00:01\r\u001b[K     |█████████▍                      | 491 kB 12.8 MB/s eta 0:00:01\r\u001b[K     |█████████▌                      | 501 kB 12.8 MB/s eta 0:00:01\r\u001b[K     |█████████▊                      | 512 kB 12.8 MB/s eta 0:00:01\r\u001b[K     |██████████                      | 522 kB 12.8 MB/s eta 0:00:01\r\u001b[K     |██████████▏                     | 532 kB 12.8 MB/s eta 0:00:01\r\u001b[K     |██████████▎                     | 542 kB 12.8 MB/s eta 0:00:01\r\u001b[K     |██████████▌                     | 552 kB 12.8 MB/s eta 0:00:01\r\u001b[K     |██████████▊                     | 563 kB 12.8 MB/s eta 0:00:01\r\u001b[K     |███████████                     | 573 kB 12.8 MB/s eta 0:00:01\r\u001b[K     |███████████                     | 583 kB 12.8 MB/s eta 0:00:01\r\u001b[K     |███████████▎                    | 593 kB 12.8 MB/s eta 0:00:01\r\u001b[K     |███████████▌                    | 604 kB 12.8 MB/s eta 0:00:01\r\u001b[K     |███████████▊                    | 614 kB 12.8 MB/s eta 0:00:01\r\u001b[K     |███████████▉                    | 624 kB 12.8 MB/s eta 0:00:01\r\u001b[K     |████████████                    | 634 kB 12.8 MB/s eta 0:00:01\r\u001b[K     |████████████▎                   | 645 kB 12.8 MB/s eta 0:00:01\r\u001b[K     |████████████▌                   | 655 kB 12.8 MB/s eta 0:00:01\r\u001b[K     |████████████▋                   | 665 kB 12.8 MB/s eta 0:00:01\r\u001b[K     |████████████▉                   | 675 kB 12.8 MB/s eta 0:00:01\r\u001b[K     |█████████████                   | 686 kB 12.8 MB/s eta 0:00:01\r\u001b[K     |█████████████▎                  | 696 kB 12.8 MB/s eta 0:00:01\r\u001b[K     |█████████████▍                  | 706 kB 12.8 MB/s eta 0:00:01\r\u001b[K     |█████████████▋                  | 716 kB 12.8 MB/s eta 0:00:01\r\u001b[K     |█████████████▉                  | 727 kB 12.8 MB/s eta 0:00:01\r\u001b[K     |██████████████                  | 737 kB 12.8 MB/s eta 0:00:01\r\u001b[K     |██████████████▏                 | 747 kB 12.8 MB/s eta 0:00:01\r\u001b[K     |██████████████▍                 | 757 kB 12.8 MB/s eta 0:00:01\r\u001b[K     |██████████████▋                 | 768 kB 12.8 MB/s eta 0:00:01\r\u001b[K     |██████████████▉                 | 778 kB 12.8 MB/s eta 0:00:01\r\u001b[K     |███████████████                 | 788 kB 12.8 MB/s eta 0:00:01\r\u001b[K     |███████████████▏                | 798 kB 12.8 MB/s eta 0:00:01\r\u001b[K     |███████████████▍                | 808 kB 12.8 MB/s eta 0:00:01\r\u001b[K     |███████████████▋                | 819 kB 12.8 MB/s eta 0:00:01\r\u001b[K     |███████████████▊                | 829 kB 12.8 MB/s eta 0:00:01\r\u001b[K     |████████████████                | 839 kB 12.8 MB/s eta 0:00:01\r\u001b[K     |████████████████▏               | 849 kB 12.8 MB/s eta 0:00:01\r\u001b[K     |████████████████▍               | 860 kB 12.8 MB/s eta 0:00:01\r\u001b[K     |████████████████▌               | 870 kB 12.8 MB/s eta 0:00:01\r\u001b[K     |████████████████▊               | 880 kB 12.8 MB/s eta 0:00:01\r\u001b[K     |█████████████████               | 890 kB 12.8 MB/s eta 0:00:01\r\u001b[K     |█████████████████▏              | 901 kB 12.8 MB/s eta 0:00:01\r\u001b[K     |█████████████████▍              | 911 kB 12.8 MB/s eta 0:00:01\r\u001b[K     |█████████████████▌              | 921 kB 12.8 MB/s eta 0:00:01\r\u001b[K     |█████████████████▊              | 931 kB 12.8 MB/s eta 0:00:01\r\u001b[K     |██████████████████              | 942 kB 12.8 MB/s eta 0:00:01\r\u001b[K     |██████████████████▏             | 952 kB 12.8 MB/s eta 0:00:01\r\u001b[K     |██████████████████▎             | 962 kB 12.8 MB/s eta 0:00:01\r\u001b[K     |██████████████████▌             | 972 kB 12.8 MB/s eta 0:00:01\r\u001b[K     |██████████████████▊             | 983 kB 12.8 MB/s eta 0:00:01\r\u001b[K     |███████████████████             | 993 kB 12.8 MB/s eta 0:00:01\r\u001b[K     |███████████████████             | 1.0 MB 12.8 MB/s eta 0:00:01\r\u001b[K     |███████████████████▎            | 1.0 MB 12.8 MB/s eta 0:00:01\r\u001b[K     |███████████████████▌            | 1.0 MB 12.8 MB/s eta 0:00:01\r\u001b[K     |███████████████████▊            | 1.0 MB 12.8 MB/s eta 0:00:01\r\u001b[K     |███████████████████▉            | 1.0 MB 12.8 MB/s eta 0:00:01\r\u001b[K     |████████████████████            | 1.1 MB 12.8 MB/s eta 0:00:01\r\u001b[K     |████████████████████▎           | 1.1 MB 12.8 MB/s eta 0:00:01\r\u001b[K     |████████████████████▌           | 1.1 MB 12.8 MB/s eta 0:00:01\r\u001b[K     |████████████████████▋           | 1.1 MB 12.8 MB/s eta 0:00:01\r\u001b[K     |████████████████████▉           | 1.1 MB 12.8 MB/s eta 0:00:01\r\u001b[K     |█████████████████████           | 1.1 MB 12.8 MB/s eta 0:00:01\r\u001b[K     |█████████████████████▎          | 1.1 MB 12.8 MB/s eta 0:00:01\r\u001b[K     |█████████████████████▍          | 1.1 MB 12.8 MB/s eta 0:00:01\r\u001b[K     |█████████████████████▋          | 1.1 MB 12.8 MB/s eta 0:00:01\r\u001b[K     |█████████████████████▉          | 1.1 MB 12.8 MB/s eta 0:00:01\r\u001b[K     |██████████████████████          | 1.2 MB 12.8 MB/s eta 0:00:01\r\u001b[K     |██████████████████████▏         | 1.2 MB 12.8 MB/s eta 0:00:01\r\u001b[K     |██████████████████████▍         | 1.2 MB 12.8 MB/s eta 0:00:01\r\u001b[K     |██████████████████████▋         | 1.2 MB 12.8 MB/s eta 0:00:01\r\u001b[K     |██████████████████████▉         | 1.2 MB 12.8 MB/s eta 0:00:01\r\u001b[K     |███████████████████████         | 1.2 MB 12.8 MB/s eta 0:00:01\r\u001b[K     |███████████████████████▏        | 1.2 MB 12.8 MB/s eta 0:00:01\r\u001b[K     |███████████████████████▍        | 1.2 MB 12.8 MB/s eta 0:00:01\r\u001b[K     |███████████████████████▋        | 1.2 MB 12.8 MB/s eta 0:00:01\r\u001b[K     |███████████████████████▊        | 1.2 MB 12.8 MB/s eta 0:00:01\r\u001b[K     |████████████████████████        | 1.3 MB 12.8 MB/s eta 0:00:01\r\u001b[K     |████████████████████████▏       | 1.3 MB 12.8 MB/s eta 0:00:01\r\u001b[K     |████████████████████████▍       | 1.3 MB 12.8 MB/s eta 0:00:01\r\u001b[K     |████████████████████████▌       | 1.3 MB 12.8 MB/s eta 0:00:01\r\u001b[K     |████████████████████████▊       | 1.3 MB 12.8 MB/s eta 0:00:01\r\u001b[K     |█████████████████████████       | 1.3 MB 12.8 MB/s eta 0:00:01\r\u001b[K     |█████████████████████████▏      | 1.3 MB 12.8 MB/s eta 0:00:01\r\u001b[K     |█████████████████████████▎      | 1.3 MB 12.8 MB/s eta 0:00:01\r\u001b[K     |█████████████████████████▌      | 1.3 MB 12.8 MB/s eta 0:00:01\r\u001b[K     |█████████████████████████▊      | 1.4 MB 12.8 MB/s eta 0:00:01\r\u001b[K     |██████████████████████████      | 1.4 MB 12.8 MB/s eta 0:00:01\r\u001b[K     |██████████████████████████      | 1.4 MB 12.8 MB/s eta 0:00:01\r\u001b[K     |██████████████████████████▎     | 1.4 MB 12.8 MB/s eta 0:00:01\r\u001b[K     |██████████████████████████▌     | 1.4 MB 12.8 MB/s eta 0:00:01\r\u001b[K     |██████████████████████████▊     | 1.4 MB 12.8 MB/s eta 0:00:01\r\u001b[K     |██████████████████████████▉     | 1.4 MB 12.8 MB/s eta 0:00:01\r\u001b[K     |███████████████████████████     | 1.4 MB 12.8 MB/s eta 0:00:01\r\u001b[K     |███████████████████████████▎    | 1.4 MB 12.8 MB/s eta 0:00:01\r\u001b[K     |███████████████████████████▌    | 1.4 MB 12.8 MB/s eta 0:00:01\r\u001b[K     |███████████████████████████▋    | 1.5 MB 12.8 MB/s eta 0:00:01\r\u001b[K     |███████████████████████████▉    | 1.5 MB 12.8 MB/s eta 0:00:01\r\u001b[K     |████████████████████████████    | 1.5 MB 12.8 MB/s eta 0:00:01\r\u001b[K     |████████████████████████████▎   | 1.5 MB 12.8 MB/s eta 0:00:01\r\u001b[K     |████████████████████████████▍   | 1.5 MB 12.8 MB/s eta 0:00:01\r\u001b[K     |████████████████████████████▋   | 1.5 MB 12.8 MB/s eta 0:00:01\r\u001b[K     |████████████████████████████▉   | 1.5 MB 12.8 MB/s eta 0:00:01\r\u001b[K     |█████████████████████████████   | 1.5 MB 12.8 MB/s eta 0:00:01\r\u001b[K     |█████████████████████████████▏  | 1.5 MB 12.8 MB/s eta 0:00:01\r\u001b[K     |█████████████████████████████▍  | 1.5 MB 12.8 MB/s eta 0:00:01\r\u001b[K     |█████████████████████████████▋  | 1.6 MB 12.8 MB/s eta 0:00:01\r\u001b[K     |█████████████████████████████▉  | 1.6 MB 12.8 MB/s eta 0:00:01\r\u001b[K     |██████████████████████████████  | 1.6 MB 12.8 MB/s eta 0:00:01\r\u001b[K     |██████████████████████████████▏ | 1.6 MB 12.8 MB/s eta 0:00:01\r\u001b[K     |██████████████████████████████▍ | 1.6 MB 12.8 MB/s eta 0:00:01\r\u001b[K     |██████████████████████████████▋ | 1.6 MB 12.8 MB/s eta 0:00:01\r\u001b[K     |██████████████████████████████▊ | 1.6 MB 12.8 MB/s eta 0:00:01\r\u001b[K     |███████████████████████████████ | 1.6 MB 12.8 MB/s eta 0:00:01\r\u001b[K     |███████████████████████████████▏| 1.6 MB 12.8 MB/s eta 0:00:01\r\u001b[K     |███████████████████████████████▍| 1.6 MB 12.8 MB/s eta 0:00:01\r\u001b[K     |███████████████████████████████▌| 1.7 MB 12.8 MB/s eta 0:00:01\r\u001b[K     |███████████████████████████████▊| 1.7 MB 12.8 MB/s eta 0:00:01\r\u001b[K     |████████████████████████████████| 1.7 MB 12.8 MB/s eta 0:00:01\r\u001b[K     |████████████████████████████████| 1.7 MB 12.8 MB/s \n",
            "\u001b[?25h  Installing build dependencies ... \u001b[?25l\u001b[?25hdone\n",
            "  Getting requirements to build wheel ... \u001b[?25l\u001b[?25hdone\n",
            "    Preparing wheel metadata ... \u001b[?25l\u001b[?25hdone\n",
            "Requirement already satisfied: appdirs>=1.4.0 in /usr/local/lib/python3.7/dist-packages (from pycuda) (1.4.4)\n",
            "Collecting pytools>=2011.2\n",
            "  Downloading pytools-2021.2.8.tar.gz (63 kB)\n",
            "\u001b[K     |████████████████████████████████| 63 kB 2.1 MB/s \n",
            "\u001b[?25hCollecting mako\n",
            "  Downloading Mako-1.1.5-py2.py3-none-any.whl (75 kB)\n",
            "\u001b[K     |████████████████████████████████| 75 kB 4.4 MB/s \n",
            "\u001b[?25hRequirement already satisfied: numpy>=1.6.0 in /usr/local/lib/python3.7/dist-packages (from pytools>=2011.2->pycuda) (1.19.5)\n",
            "Requirement already satisfied: MarkupSafe>=0.9.2 in /usr/local/lib/python3.7/dist-packages (from mako->pycuda) (2.0.1)\n",
            "Building wheels for collected packages: pycuda, pytools\n",
            "  Building wheel for pycuda (PEP 517) ... \u001b[?25l\u001b[?25hdone\n",
            "  Created wheel for pycuda: filename=pycuda-2021.1-cp37-cp37m-linux_x86_64.whl size=627169 sha256=618ace480e4f3ff6dbf5355d12651cf50810bcb3a1c0c10238cd0f1d4fabbee5\n",
            "  Stored in directory: /root/.cache/pip/wheels/c4/ef/49/dc6a5feb8d980b37c83d465ecab24949a6aa19458522a9e001\n",
            "  Building wheel for pytools (setup.py) ... \u001b[?25l\u001b[?25hdone\n",
            "  Created wheel for pytools: filename=pytools-2021.2.8-py2.py3-none-any.whl size=60725 sha256=3a3169ce0e4285deeea1151d0b0eec5be4dadd2bd101e4aa5675e7f0bcef9454\n",
            "  Stored in directory: /root/.cache/pip/wheels/bd/2d/ef/0127a17bafa44971f11d05d0e38d7947144cf9e33313bf12a7\n",
            "Successfully built pycuda pytools\n",
            "Installing collected packages: pytools, mako, pycuda\n",
            "Successfully installed mako-1.1.5 pycuda-2021.1 pytools-2021.2.8\n"
          ]
        }
      ]
    },
    {
      "cell_type": "code",
      "metadata": {
        "id": "rGCKtzen21Hs"
      },
      "source": [
        "import pycuda.driver as cuda\n",
        "import pycuda.autoinit\n",
        "from pycuda.compiler import SourceModule\n",
        "from pycuda.tools import make_default_context"
      ],
      "execution_count": 97,
      "outputs": []
    },
    {
      "cell_type": "markdown",
      "metadata": {
        "id": "AkNG67zT_3zh"
      },
      "source": [
        "## Узнаем на каком CPU выполняются вычисления\n",
        "CPU: Intel(R) Xeon(R) CPU @ 2.30GHz"
      ]
    },
    {
      "cell_type": "code",
      "metadata": {
        "colab": {
          "base_uri": "https://localhost:8080/"
        },
        "id": "x1hRCbfa7dAB",
        "outputId": "5b05d32a-7650-4a54-d8c5-b411fb3aa9e4"
      },
      "source": [
        "!cat /proc/cpuinfo"
      ],
      "execution_count": 98,
      "outputs": [
        {
          "output_type": "stream",
          "name": "stdout",
          "text": [
            "processor\t: 0\n",
            "vendor_id\t: GenuineIntel\n",
            "cpu family\t: 6\n",
            "model\t\t: 63\n",
            "model name\t: Intel(R) Xeon(R) CPU @ 2.30GHz\n",
            "stepping\t: 0\n",
            "microcode\t: 0x1\n",
            "cpu MHz\t\t: 2299.998\n",
            "cache size\t: 46080 KB\n",
            "physical id\t: 0\n",
            "siblings\t: 2\n",
            "core id\t\t: 0\n",
            "cpu cores\t: 1\n",
            "apicid\t\t: 0\n",
            "initial apicid\t: 0\n",
            "fpu\t\t: yes\n",
            "fpu_exception\t: yes\n",
            "cpuid level\t: 13\n",
            "wp\t\t: yes\n",
            "flags\t\t: fpu vme de pse tsc msr pae mce cx8 apic sep mtrr pge mca cmov pat pse36 clflush mmx fxsr sse sse2 ss ht syscall nx pdpe1gb rdtscp lm constant_tsc rep_good nopl xtopology nonstop_tsc cpuid tsc_known_freq pni pclmulqdq ssse3 fma cx16 pcid sse4_1 sse4_2 x2apic movbe popcnt aes xsave avx f16c rdrand hypervisor lahf_lm abm invpcid_single ssbd ibrs ibpb stibp fsgsbase tsc_adjust bmi1 avx2 smep bmi2 erms invpcid xsaveopt arat md_clear arch_capabilities\n",
            "bugs\t\t: cpu_meltdown spectre_v1 spectre_v2 spec_store_bypass l1tf mds swapgs\n",
            "bogomips\t: 4599.99\n",
            "clflush size\t: 64\n",
            "cache_alignment\t: 64\n",
            "address sizes\t: 46 bits physical, 48 bits virtual\n",
            "power management:\n",
            "\n",
            "processor\t: 1\n",
            "vendor_id\t: GenuineIntel\n",
            "cpu family\t: 6\n",
            "model\t\t: 63\n",
            "model name\t: Intel(R) Xeon(R) CPU @ 2.30GHz\n",
            "stepping\t: 0\n",
            "microcode\t: 0x1\n",
            "cpu MHz\t\t: 2299.998\n",
            "cache size\t: 46080 KB\n",
            "physical id\t: 0\n",
            "siblings\t: 2\n",
            "core id\t\t: 0\n",
            "cpu cores\t: 1\n",
            "apicid\t\t: 1\n",
            "initial apicid\t: 1\n",
            "fpu\t\t: yes\n",
            "fpu_exception\t: yes\n",
            "cpuid level\t: 13\n",
            "wp\t\t: yes\n",
            "flags\t\t: fpu vme de pse tsc msr pae mce cx8 apic sep mtrr pge mca cmov pat pse36 clflush mmx fxsr sse sse2 ss ht syscall nx pdpe1gb rdtscp lm constant_tsc rep_good nopl xtopology nonstop_tsc cpuid tsc_known_freq pni pclmulqdq ssse3 fma cx16 pcid sse4_1 sse4_2 x2apic movbe popcnt aes xsave avx f16c rdrand hypervisor lahf_lm abm invpcid_single ssbd ibrs ibpb stibp fsgsbase tsc_adjust bmi1 avx2 smep bmi2 erms invpcid xsaveopt arat md_clear arch_capabilities\n",
            "bugs\t\t: cpu_meltdown spectre_v1 spectre_v2 spec_store_bypass l1tf mds swapgs\n",
            "bogomips\t: 4599.99\n",
            "clflush size\t: 64\n",
            "cache_alignment\t: 64\n",
            "address sizes\t: 46 bits physical, 48 bits virtual\n",
            "power management:\n",
            "\n"
          ]
        }
      ]
    },
    {
      "cell_type": "markdown",
      "metadata": {
        "id": "YJaa9ciiADoZ"
      },
      "source": [
        "## Узнаем на какой GPU выполняются расчеты\n",
        "GPU: Tesla K80"
      ]
    },
    {
      "cell_type": "code",
      "metadata": {
        "colab": {
          "base_uri": "https://localhost:8080/"
        },
        "id": "LOmsxP729NsP",
        "outputId": "6a2fec2e-74a9-41b5-fdee-7db425713914"
      },
      "source": [
        "!nvidia-smi"
      ],
      "execution_count": 99,
      "outputs": [
        {
          "output_type": "stream",
          "name": "stdout",
          "text": [
            "Thu Sep 23 17:11:11 2021       \n",
            "+-----------------------------------------------------------------------------+\n",
            "| NVIDIA-SMI 470.63.01    Driver Version: 460.32.03    CUDA Version: 11.2     |\n",
            "|-------------------------------+----------------------+----------------------+\n",
            "| GPU  Name        Persistence-M| Bus-Id        Disp.A | Volatile Uncorr. ECC |\n",
            "| Fan  Temp  Perf  Pwr:Usage/Cap|         Memory-Usage | GPU-Util  Compute M. |\n",
            "|                               |                      |               MIG M. |\n",
            "|===============================+======================+======================|\n",
            "|   0  Tesla K80           Off  | 00000000:00:04.0 Off |                    0 |\n",
            "| N/A   47C    P0    57W / 149W |     59MiB / 11441MiB |      0%      Default |\n",
            "|                               |                      |                  N/A |\n",
            "+-------------------------------+----------------------+----------------------+\n",
            "                                                                               \n",
            "+-----------------------------------------------------------------------------+\n",
            "| Processes:                                                                  |\n",
            "|  GPU   GI   CI        PID   Type   Process name                  GPU Memory |\n",
            "|        ID   ID                                                   Usage      |\n",
            "|=============================================================================|\n",
            "|  No running processes found                                                 |\n",
            "+-----------------------------------------------------------------------------+\n"
          ]
        }
      ]
    },
    {
      "cell_type": "markdown",
      "metadata": {
        "id": "SE1PAGZKATTx"
      },
      "source": [
        "# Как работать с PyCuda"
      ]
    },
    {
      "cell_type": "code",
      "metadata": {
        "id": "ZYO8cHN-9kT9"
      },
      "source": [
        "import numpy as np\n",
        "import pandas as pd\n",
        "import time"
      ],
      "execution_count": 159,
      "outputs": []
    },
    {
      "cell_type": "code",
      "metadata": {
        "id": "vzDgLGkiK0Y0"
      },
      "source": [
        "arrayGPUTime = list()\n",
        "arrayCPUTime = list()\n",
        "\n",
        "dirGPU = {}\n",
        "dirCPU = {}"
      ],
      "execution_count": 160,
      "outputs": []
    },
    {
      "cell_type": "code",
      "metadata": {
        "id": "Nuv1Mps6LzK_"
      },
      "source": [
        "matrixMulFun = \"\"\"\n",
        "  __global__ void MatrixMulKernel(const float *A, const float *B, float *C, const int N)\n",
        "    {\n",
        "                const int row =  threadIdx.y + blockIdx.y * blockDim.y;\n",
        "                const int column = threadIdx.x + blockIdx.x * blockDim.x;\n",
        "\n",
        "                float sum = 0;\n",
        "\n",
        "                for(int i = 0; i < N; i++){\n",
        "                        sum += A[i + row * N] * B[column + i * N];              \n",
        "                }  \n",
        "\n",
        "                C[row * N + column] = sum;     \n",
        "        }\n",
        "\"\"\""
      ],
      "execution_count": 161,
      "outputs": []
    },
    {
      "cell_type": "code",
      "metadata": {
        "id": "Sk7LaC_aF671"
      },
      "source": [
        "def GPU_matrix_mul(matrixA, matrixB, size):\n",
        "  # Выделяем память на CUDA для матрицы A\n",
        "  aMatrixMemGPU = cuda.mem_alloc(matrixA.nbytes)\n",
        "  # Выделяем память на CUDA для матрицы B\n",
        "  bMatrixMemGPU = cuda.mem_alloc(matrixB.nbytes)\n",
        "  # Выделяем память для результирующей матрицы C\n",
        "  matrC = np.zeros((matrixA.shape[0], matrixA.shape[1])).astype(np.float32)\n",
        "  cMatrixResult = cuda.mem_alloc(matrC.nbytes)\n",
        "\n",
        "  # Вычислим необходимое количество блоков и количество нитей в этих блоках\n",
        "  if size > 32:\n",
        "    gdim, remains = divmod(size, 32)\n",
        "\n",
        "    bdim = (32,32,1)\n",
        "    gdim = (gdim + (remains > 0), gdim + (remains > 0))\n",
        "  else:\n",
        "    bdim = (size, size, 1)\n",
        "    gdim = (1,1)\n",
        "\n",
        "  # Старт замера времени\n",
        "  GPUStartTime = time.time()\n",
        "  # Отправляем данные на GPU\n",
        "  cuda.memcpy_htod(aMatrixMemGPU, matrixA)\n",
        "  cuda.memcpy_htod(bMatrixMemGPU, matrixB)\n",
        "\n",
        "  # Компилируем ядро Cuda с помощью средств PyCuda\n",
        "  # Загружаем функцию которая совершает перемножение метриц\n",
        "  buildKernel = SourceModule(matrixMulFun)\n",
        "  matMulFunc = buildKernel.get_function(\"MatrixMulKernel\")\n",
        "\n",
        "  # TODO Вызов функции отвечающей за GPU\n",
        "  matMulFunc(aMatrixMemGPU, bMatrixMemGPU, cMatrixResult, np.int32(size), block=bdim, grid=gdim)\n",
        "\n",
        "  cuda.memcpy_dtoh(matrC, cMatrixResult)\n",
        "\n",
        "  GPUStopTime = time.time()\n",
        "  # Запись данных о времени\n",
        "  arrayGPUTime.append(GPUStopTime-GPUStartTime)\n",
        "\n",
        "  return matrC"
      ],
      "execution_count": 167,
      "outputs": []
    },
    {
      "cell_type": "code",
      "metadata": {
        "id": "gtyZQzXsCeQ8"
      },
      "source": [
        "\"\"\"\n",
        "Создадим функцию, которая будет выполнять аккумулирующие действия, а также\n",
        "вычислять время экспериментов\n",
        "\"\"\"\n",
        "# Размерности матрицы\n",
        "arrDimensions = [128, 256, 512, 1024]\n",
        "def launch():\n",
        "  # Основной цикл программы\n",
        "  for dim in arrDimensions:\n",
        "    # Генерация данных для матрицы А\n",
        "    matrixA = np.random.randn(dim,dim).astype(np.float32)\n",
        "    # Генерация данных для матрицы B\n",
        "    matrixB = np.random.randn(dim, dim).astype(np.float32)\n",
        "\n",
        "    for i in range(11):\n",
        "      resultGPU = GPU_matrix_mul(matrixA, matrixB, dim)\n",
        "    dirGPU[str(dim)] = np.mean(arrayGPUTime[1:])\n",
        "\n",
        "    for i in range(11):\n",
        "      CPUStartTime = time.time()\n",
        "      resultCPU = np.dot(matrixA, matrixB)\n",
        "      CPUStopTime = time.time()\n",
        "      arrayCPUTime.append(CPUStopTime-CPUStartTime)\n",
        "    dirCPU[str(dim)] = np.mean(arrayCPUTime[1:])\n",
        "    \n",
        "    print(f\"Размерность: {dim} Равны ли матрицы расчитаные с помощью CUDA и np.dot? -> {np.allclose(resultGPU, resultCPU, atol=0.0001)}\")    "
      ],
      "execution_count": 168,
      "outputs": []
    },
    {
      "cell_type": "code",
      "metadata": {
        "colab": {
          "base_uri": "https://localhost:8080/"
        },
        "id": "6bt7XL9lGgl-",
        "outputId": "a1b21ac0-af64-4b12-c678-31e798f448d5"
      },
      "source": [
        "launch()"
      ],
      "execution_count": 169,
      "outputs": [
        {
          "output_type": "stream",
          "name": "stdout",
          "text": [
            "Размерность: 128 Равны ли матрицы расчитаные с помощью CUDA и np.dot? -> True\n",
            "Размерность: 256 Равны ли матрицы расчитаные с помощью CUDA и np.dot? -> True\n",
            "Размерность: 512 Равны ли матрицы расчитаные с помощью CUDA и np.dot? -> True\n",
            "Размерность: 1024 Равны ли матрицы расчитаные с помощью CUDA и np.dot? -> True\n"
          ]
        }
      ]
    },
    {
      "cell_type": "code",
      "metadata": {
        "colab": {
          "base_uri": "https://localhost:8080/"
        },
        "id": "u9hehM2okrue",
        "outputId": "281b27a6-b302-40c6-da4c-be342e563471"
      },
      "source": [
        "print(dirCPU.values())\n",
        "print(dirGPU.values())\n",
        "print(arrDimensions)"
      ],
      "execution_count": 171,
      "outputs": [
        {
          "output_type": "stream",
          "name": "stdout",
          "text": [
            "dict_values([0.00012238025665283202, 0.00039395831880115325, 0.0016622394323349, 0.00995122000228527])\n",
            "dict_values([0.000847768783569336, 0.0012810684385753813, 0.0025398656725883484, 0.008457045222437658])\n",
            "[128, 256, 512, 1024]\n"
          ]
        }
      ]
    },
    {
      "cell_type": "code",
      "metadata": {
        "colab": {
          "base_uri": "https://localhost:8080/",
          "height": 279
        },
        "id": "XA6suRStjc-a",
        "outputId": "e49974ee-dc8c-41a6-8fff-62804ac1477b"
      },
      "source": [
        "import matplotlib.pyplot as plt\n",
        "plt.plot(arrDimensions, list(dirCPU.values()), color=\"blue\", label=\"np.dot\")\n",
        "plt.plot(arrDimensions, list(dirGPU.values()), color=\"red\", label=\"GPU\")\n",
        "plt.xlabel(\"Размерность N матриц NxN\")\n",
        "plt.ylabel(\"Время, с\")\n",
        "plt.show()"
      ],
      "execution_count": 172,
      "outputs": [
        {
          "output_type": "display_data",
          "data": {
            "image/png": "[encoded data removed]",
            "text/plain": [
              "<Figure size 432x288 with 1 Axes>"
            ]
          },
          "metadata": {
            "needs_background": "light"
          }
        }
      ]
    },
    {
      "cell_type": "code",
      "metadata": {
        "colab": {
          "base_uri": "https://localhost:8080/",
          "height": 296
        },
        "id": "0xCQoCHKkW7D",
        "outputId": "faafa137-3105-400d-9fd4-56932e18b16e"
      },
      "source": [
        "plt.plot(arrDimensions, np.array(list(dirCPU.values()))/np.array(list(dirGPU.values())), color=\"black\", label=\"УСКОРЕНИЕ\")\n",
        "plt.xlabel(\"Размерность N матриц\")\n",
        "plt.ylabel(\"Отношение t на CPU к t на GPU\")"
      ],
      "execution_count": 173,
      "outputs": [
        {
          "output_type": "execute_result",
          "data": {
            "text/plain": [
              "Text(0, 0.5, 'Отношение t на CPU к t на GPU')"
            ]
          },
          "metadata": {},
          "execution_count": 173
        },
        {
          "output_type": "display_data",
          "data": {
            "image/png": "[encoded data removed]",
            "text/plain": [
              "<Figure size 432x288 with 1 Axes>"
            ]
          },
          "metadata": {
            "needs_background": "light"
          }
        }
      ]
    },
    {
      "cell_type": "code",
      "metadata": {
        "id": "edTt_xT7mVhS",
        "colab": {
          "base_uri": "https://localhost:8080/",
          "height": 173
        },
        "outputId": "689e9cf7-4828-4f8c-dce6-19b9e692da32"
      },
      "source": [
        "df = pd.DataFrame({\"CPU\": list(dirCPU.values()), \"GPU\": list(dirGPU.values())}, index=arrDimensions)\n",
        "df"
      ],
      "execution_count": 174,
      "outputs": [
        {
          "output_type": "execute_result",
          "data": {
            "text/html": [
              "<div>\n",
              "<style scoped>\n",
              "    .dataframe tbody tr th:only-of-type {\n",
              "        vertical-align: middle;\n",
              "    }\n",
              "\n",
              "    .dataframe tbody tr th {\n",
              "        vertical-align: top;\n",
              "    }\n",
              "\n",
              "    .dataframe thead th {\n",
              "        text-align: right;\n",
              "    }\n",
              "</style>\n",
              "<table border=\"1\" class=\"dataframe\">\n",
              "  <thead>\n",
              "    <tr style=\"text-align: right;\">\n",
              "      <th></th>\n",
              "      <th>CPU</th>\n",
              "      <th>GPU</th>\n",
              "    </tr>\n",
              "  </thead>\n",
              "  <tbody>\n",
              "    <tr>\n",
              "      <th>128</th>\n",
              "      <td>0.000122</td>\n",
              "      <td>0.000848</td>\n",
              "    </tr>\n",
              "    <tr>\n",
              "      <th>256</th>\n",
              "      <td>0.000394</td>\n",
              "      <td>0.001281</td>\n",
              "    </tr>\n",
              "    <tr>\n",
              "      <th>512</th>\n",
              "      <td>0.001662</td>\n",
              "      <td>0.002540</td>\n",
              "    </tr>\n",
              "    <tr>\n",
              "      <th>1024</th>\n",
              "      <td>0.009951</td>\n",
              "      <td>0.008457</td>\n",
              "    </tr>\n",
              "  </tbody>\n",
              "</table>\n",
              "</div>"
            ],
            "text/plain": [
              "           CPU       GPU\n",
              "128   0.000122  0.000848\n",
              "256   0.000394  0.001281\n",
              "512   0.001662  0.002540\n",
              "1024  0.009951  0.008457"
            ]
          },
          "metadata": {},
          "execution_count": 174
        }
      ]
    },
    {
      "cell_type": "code",
      "metadata": {
        "id": "mccxnRIcg-YF"
      },
      "source": [
        ""
      ],
      "execution_count": null,
      "outputs": []
    }
  ]
}